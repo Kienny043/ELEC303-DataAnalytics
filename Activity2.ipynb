{
 "cells": [
  {
   "cell_type": "markdown",
   "id": "25c21bc9-1061-466a-925c-3cfc37785dce",
   "metadata": {},
   "source": [
    "<h1>Activity #2 - UK Road Accident Data Analytics</h1>\n",
    "<hr>\n",
    "<h3>Analyst: Carl Kien Carabido</h3>\n",
    "\n",
    "<p>\n",
    "This activity focuses on analyzing the <b>UK Road Accident dataset</b>, \n",
    "which contains detailed records of accidents including severity, location, \n",
    "weather conditions, road conditions, and vehicles involved. \n",
    "The goal is to practice fundamental data analysis techniques using \n",
    "the <code>pandas</code> library in Python, such as:\n",
    "</p>\n",
    "\n",
    "<ul>\n",
    "  <li>Exploring dataset structure and summary statistics</li>\n",
    "  <li>Handling missing values with statistical methods</li>\n",
    "  <li>Inspecting and converting column data types</li>\n",
    "  <li>Accessing and analyzing individual columns</li>\n",
    "  <li>Preparing the dataset for further analysis</li>\n",
    "</ul>\n",
    "\n",
    "<p>\n",
    "Through this exercise, I aim to reinforce my skills in \n",
    "<b>data cleaning, preparation, and basic exploration</b> — \n",
    "key steps in any real-world data analytics workflow.\n",
    "</p>\n"
   ]
  },
  {
   "cell_type": "markdown",
   "id": "3a801257-dcc5-4820-b5b2-663f0f499635",
   "metadata": {},
   "source": [
    "<h2>📌 Step 1: Import Necessary Libraries</h2>\n",
    "<p>We start by importing the required Python libraries for data analysis.</p>"
   ]
  },
  {
   "cell_type": "code",
   "execution_count": 13,
   "id": "ba6986a9-6633-4349-bc5c-d241485cfe11",
   "metadata": {},
   "outputs": [],
   "source": [
    "import numpy as np\n",
    "import pandas as pd\n",
    "import matplotlib.pyplot as plt\n",
    "import warnings\n",
    "warnings.filterwarnings('ignore')"
   ]
  },
  {
   "cell_type": "markdown",
   "id": "9eecec04-4a19-4d07-8439-5b7cab7e61ab",
   "metadata": {},
   "source": [
    "<h2>📌 Step 2: Load Dataset into a DataFrame</h2>\n",
    "<p>Load the <b>UK Road Accident</b> dataset into a Pandas DataFrame for analysis.</p>"
   ]
  },
  {
   "cell_type": "code",
   "execution_count": 14,
   "id": "dcf32209-1b1f-417c-aa4f-10c4d5b4bc9d",
   "metadata": {},
   "outputs": [
    {
     "data": {
      "text/html": [
       "<div>\n",
       "<style scoped>\n",
       "    .dataframe tbody tr th:only-of-type {\n",
       "        vertical-align: middle;\n",
       "    }\n",
       "\n",
       "    .dataframe tbody tr th {\n",
       "        vertical-align: top;\n",
       "    }\n",
       "\n",
       "    .dataframe thead th {\n",
       "        text-align: right;\n",
       "    }\n",
       "</style>\n",
       "<table border=\"1\" class=\"dataframe\">\n",
       "  <thead>\n",
       "    <tr style=\"text-align: right;\">\n",
       "      <th></th>\n",
       "      <th>Index</th>\n",
       "      <th>Accident_Severity</th>\n",
       "      <th>Accident Date</th>\n",
       "      <th>Latitude</th>\n",
       "      <th>Light_Conditions</th>\n",
       "      <th>District Area</th>\n",
       "      <th>Longitude</th>\n",
       "      <th>Number_of_Casualties</th>\n",
       "      <th>Number_of_Vehicles</th>\n",
       "      <th>Road_Surface_Conditions</th>\n",
       "      <th>Road_Type</th>\n",
       "      <th>Urban_or_Rural_Area</th>\n",
       "      <th>Weather_Conditions</th>\n",
       "      <th>Vehicle_Type</th>\n",
       "    </tr>\n",
       "  </thead>\n",
       "  <tbody>\n",
       "    <tr>\n",
       "      <th>0</th>\n",
       "      <td>200701BS64157</td>\n",
       "      <td>Serious</td>\n",
       "      <td>5/6/2019</td>\n",
       "      <td>51.506187</td>\n",
       "      <td>Darkness - lights lit</td>\n",
       "      <td>Kensington and Chelsea</td>\n",
       "      <td>-0.209082</td>\n",
       "      <td>1</td>\n",
       "      <td>2</td>\n",
       "      <td>Dry</td>\n",
       "      <td>Single carriageway</td>\n",
       "      <td>Urban</td>\n",
       "      <td>Fine no high winds</td>\n",
       "      <td>Car</td>\n",
       "    </tr>\n",
       "    <tr>\n",
       "      <th>1</th>\n",
       "      <td>200701BS65737</td>\n",
       "      <td>Serious</td>\n",
       "      <td>2/7/2019</td>\n",
       "      <td>51.495029</td>\n",
       "      <td>Daylight</td>\n",
       "      <td>Kensington and Chelsea</td>\n",
       "      <td>-0.173647</td>\n",
       "      <td>1</td>\n",
       "      <td>2</td>\n",
       "      <td>Wet or damp</td>\n",
       "      <td>Single carriageway</td>\n",
       "      <td>Urban</td>\n",
       "      <td>Raining no high winds</td>\n",
       "      <td>Car</td>\n",
       "    </tr>\n",
       "    <tr>\n",
       "      <th>2</th>\n",
       "      <td>200701BS66127</td>\n",
       "      <td>Serious</td>\n",
       "      <td>26-08-2019</td>\n",
       "      <td>51.517715</td>\n",
       "      <td>Darkness - lighting unknown</td>\n",
       "      <td>Kensington and Chelsea</td>\n",
       "      <td>-0.210215</td>\n",
       "      <td>1</td>\n",
       "      <td>3</td>\n",
       "      <td>Dry</td>\n",
       "      <td>NaN</td>\n",
       "      <td>Urban</td>\n",
       "      <td>NaN</td>\n",
       "      <td>Taxi/Private hire car</td>\n",
       "    </tr>\n",
       "    <tr>\n",
       "      <th>3</th>\n",
       "      <td>200701BS66128</td>\n",
       "      <td>Serious</td>\n",
       "      <td>16-08-2019</td>\n",
       "      <td>51.495478</td>\n",
       "      <td>Daylight</td>\n",
       "      <td>Kensington and Chelsea</td>\n",
       "      <td>-0.202731</td>\n",
       "      <td>1</td>\n",
       "      <td>4</td>\n",
       "      <td>Dry</td>\n",
       "      <td>Single carriageway</td>\n",
       "      <td>Urban</td>\n",
       "      <td>Fine no high winds</td>\n",
       "      <td>Bus or coach (17 or more pass seats)</td>\n",
       "    </tr>\n",
       "    <tr>\n",
       "      <th>4</th>\n",
       "      <td>200701BS66837</td>\n",
       "      <td>Slight</td>\n",
       "      <td>3/9/2019</td>\n",
       "      <td>51.488576</td>\n",
       "      <td>Darkness - lights lit</td>\n",
       "      <td>Kensington and Chelsea</td>\n",
       "      <td>-0.192487</td>\n",
       "      <td>1</td>\n",
       "      <td>2</td>\n",
       "      <td>Dry</td>\n",
       "      <td>NaN</td>\n",
       "      <td>Urban</td>\n",
       "      <td>NaN</td>\n",
       "      <td>Other vehicle</td>\n",
       "    </tr>\n",
       "    <tr>\n",
       "      <th>...</th>\n",
       "      <td>...</td>\n",
       "      <td>...</td>\n",
       "      <td>...</td>\n",
       "      <td>...</td>\n",
       "      <td>...</td>\n",
       "      <td>...</td>\n",
       "      <td>...</td>\n",
       "      <td>...</td>\n",
       "      <td>...</td>\n",
       "      <td>...</td>\n",
       "      <td>...</td>\n",
       "      <td>...</td>\n",
       "      <td>...</td>\n",
       "      <td>...</td>\n",
       "    </tr>\n",
       "    <tr>\n",
       "      <th>660674</th>\n",
       "      <td>201091NM01760</td>\n",
       "      <td>Slight</td>\n",
       "      <td>18-02-2022</td>\n",
       "      <td>57.374005</td>\n",
       "      <td>Daylight</td>\n",
       "      <td>Highland</td>\n",
       "      <td>-3.467828</td>\n",
       "      <td>2</td>\n",
       "      <td>1</td>\n",
       "      <td>Dry</td>\n",
       "      <td>Single carriageway</td>\n",
       "      <td>Rural</td>\n",
       "      <td>Fine no high winds</td>\n",
       "      <td>Car</td>\n",
       "    </tr>\n",
       "    <tr>\n",
       "      <th>660675</th>\n",
       "      <td>201091NM01881</td>\n",
       "      <td>Slight</td>\n",
       "      <td>21-02-2022</td>\n",
       "      <td>57.232273</td>\n",
       "      <td>Darkness - no lighting</td>\n",
       "      <td>Highland</td>\n",
       "      <td>-3.809281</td>\n",
       "      <td>1</td>\n",
       "      <td>1</td>\n",
       "      <td>Frost or ice</td>\n",
       "      <td>Single carriageway</td>\n",
       "      <td>Rural</td>\n",
       "      <td>Fine no high winds</td>\n",
       "      <td>Car</td>\n",
       "    </tr>\n",
       "    <tr>\n",
       "      <th>660676</th>\n",
       "      <td>201091NM01935</td>\n",
       "      <td>Slight</td>\n",
       "      <td>23-02-2022</td>\n",
       "      <td>57.585044</td>\n",
       "      <td>Daylight</td>\n",
       "      <td>Highland</td>\n",
       "      <td>-3.862727</td>\n",
       "      <td>1</td>\n",
       "      <td>3</td>\n",
       "      <td>Frost or ice</td>\n",
       "      <td>Single carriageway</td>\n",
       "      <td>Rural</td>\n",
       "      <td>Fine no high winds</td>\n",
       "      <td>Car</td>\n",
       "    </tr>\n",
       "    <tr>\n",
       "      <th>660677</th>\n",
       "      <td>201091NM01964</td>\n",
       "      <td>Serious</td>\n",
       "      <td>23-02-2022</td>\n",
       "      <td>57.214898</td>\n",
       "      <td>Darkness - no lighting</td>\n",
       "      <td>Highland</td>\n",
       "      <td>-3.823997</td>\n",
       "      <td>1</td>\n",
       "      <td>2</td>\n",
       "      <td>Wet or damp</td>\n",
       "      <td>Single carriageway</td>\n",
       "      <td>Rural</td>\n",
       "      <td>Fine no high winds</td>\n",
       "      <td>Motorcycle over 500cc</td>\n",
       "    </tr>\n",
       "    <tr>\n",
       "      <th>660678</th>\n",
       "      <td>201091NM02142</td>\n",
       "      <td>Serious</td>\n",
       "      <td>28-02-2022</td>\n",
       "      <td>57.575210</td>\n",
       "      <td>Daylight</td>\n",
       "      <td>Highland</td>\n",
       "      <td>-3.895673</td>\n",
       "      <td>1</td>\n",
       "      <td>1</td>\n",
       "      <td>Wet or damp</td>\n",
       "      <td>Dual carriageway</td>\n",
       "      <td>Rural</td>\n",
       "      <td>Snowing no high winds</td>\n",
       "      <td>Car</td>\n",
       "    </tr>\n",
       "  </tbody>\n",
       "</table>\n",
       "<p>660679 rows × 14 columns</p>\n",
       "</div>"
      ],
      "text/plain": [
       "                Index Accident_Severity Accident Date   Latitude  \\\n",
       "0       200701BS64157           Serious      5/6/2019  51.506187   \n",
       "1       200701BS65737           Serious      2/7/2019  51.495029   \n",
       "2       200701BS66127           Serious    26-08-2019  51.517715   \n",
       "3       200701BS66128           Serious    16-08-2019  51.495478   \n",
       "4       200701BS66837            Slight      3/9/2019  51.488576   \n",
       "...               ...               ...           ...        ...   \n",
       "660674  201091NM01760            Slight    18-02-2022  57.374005   \n",
       "660675  201091NM01881            Slight    21-02-2022  57.232273   \n",
       "660676  201091NM01935            Slight    23-02-2022  57.585044   \n",
       "660677  201091NM01964           Serious    23-02-2022  57.214898   \n",
       "660678  201091NM02142           Serious    28-02-2022  57.575210   \n",
       "\n",
       "                   Light_Conditions           District Area  Longitude  \\\n",
       "0             Darkness - lights lit  Kensington and Chelsea  -0.209082   \n",
       "1                          Daylight  Kensington and Chelsea  -0.173647   \n",
       "2       Darkness - lighting unknown  Kensington and Chelsea  -0.210215   \n",
       "3                          Daylight  Kensington and Chelsea  -0.202731   \n",
       "4             Darkness - lights lit  Kensington and Chelsea  -0.192487   \n",
       "...                             ...                     ...        ...   \n",
       "660674                     Daylight                Highland  -3.467828   \n",
       "660675       Darkness - no lighting                Highland  -3.809281   \n",
       "660676                     Daylight                Highland  -3.862727   \n",
       "660677       Darkness - no lighting                Highland  -3.823997   \n",
       "660678                     Daylight                Highland  -3.895673   \n",
       "\n",
       "        Number_of_Casualties  Number_of_Vehicles Road_Surface_Conditions  \\\n",
       "0                          1                   2                     Dry   \n",
       "1                          1                   2             Wet or damp   \n",
       "2                          1                   3                     Dry   \n",
       "3                          1                   4                     Dry   \n",
       "4                          1                   2                     Dry   \n",
       "...                      ...                 ...                     ...   \n",
       "660674                     2                   1                     Dry   \n",
       "660675                     1                   1            Frost or ice   \n",
       "660676                     1                   3            Frost or ice   \n",
       "660677                     1                   2             Wet or damp   \n",
       "660678                     1                   1             Wet or damp   \n",
       "\n",
       "                 Road_Type Urban_or_Rural_Area     Weather_Conditions  \\\n",
       "0       Single carriageway               Urban     Fine no high winds   \n",
       "1       Single carriageway               Urban  Raining no high winds   \n",
       "2                      NaN               Urban                    NaN   \n",
       "3       Single carriageway               Urban     Fine no high winds   \n",
       "4                      NaN               Urban                    NaN   \n",
       "...                    ...                 ...                    ...   \n",
       "660674  Single carriageway               Rural     Fine no high winds   \n",
       "660675  Single carriageway               Rural     Fine no high winds   \n",
       "660676  Single carriageway               Rural     Fine no high winds   \n",
       "660677  Single carriageway               Rural     Fine no high winds   \n",
       "660678    Dual carriageway               Rural  Snowing no high winds   \n",
       "\n",
       "                                Vehicle_Type  \n",
       "0                                        Car  \n",
       "1                                        Car  \n",
       "2                      Taxi/Private hire car  \n",
       "3       Bus or coach (17 or more pass seats)  \n",
       "4                              Other vehicle  \n",
       "...                                      ...  \n",
       "660674                                   Car  \n",
       "660675                                   Car  \n",
       "660676                                   Car  \n",
       "660677                 Motorcycle over 500cc  \n",
       "660678                                   Car  \n",
       "\n",
       "[660679 rows x 14 columns]"
      ]
     },
     "execution_count": 14,
     "metadata": {},
     "output_type": "execute_result"
    }
   ],
   "source": [
    "uk_accidents = pd.read_csv('datasets\\\\uk_road_accident.csv')\n",
    "uk_accidents"
   ]
  },
  {
   "cell_type": "markdown",
   "id": "235a7122-928f-43ff-9dda-d8bcf2fbee79",
   "metadata": {},
   "source": [
    "<h2>📌 Step 3: Check DataFrame Information</h2>\n",
    "<p>Get a quick overview of the dataset:</p>\n",
    "<ul>\n",
    "  <li>Number of rows & columns</li>\n",
    "  <li>Column names</li>\n",
    "  <li>Data types</li>\n",
    "  <li>Memory usage</li>\n",
    "</ul>"
   ]
  },
  {
   "cell_type": "code",
   "execution_count": 15,
   "id": "882b5b83-814d-4d45-acc3-1fd9acbc9e56",
   "metadata": {},
   "outputs": [
    {
     "name": "stdout",
     "output_type": "stream",
     "text": [
      "<class 'pandas.core.frame.DataFrame'>\n",
      "RangeIndex: 660679 entries, 0 to 660678\n",
      "Data columns (total 14 columns):\n",
      " #   Column                   Non-Null Count   Dtype  \n",
      "---  ------                   --------------   -----  \n",
      " 0   Index                    660679 non-null  object \n",
      " 1   Accident_Severity        660679 non-null  object \n",
      " 2   Accident Date            660679 non-null  object \n",
      " 3   Latitude                 660654 non-null  float64\n",
      " 4   Light_Conditions         660679 non-null  object \n",
      " 5   District Area            660679 non-null  object \n",
      " 6   Longitude                660653 non-null  float64\n",
      " 7   Number_of_Casualties     660679 non-null  int64  \n",
      " 8   Number_of_Vehicles       660679 non-null  int64  \n",
      " 9   Road_Surface_Conditions  659953 non-null  object \n",
      " 10  Road_Type                656159 non-null  object \n",
      " 11  Urban_or_Rural_Area      660664 non-null  object \n",
      " 12  Weather_Conditions       646551 non-null  object \n",
      " 13  Vehicle_Type             660679 non-null  object \n",
      "dtypes: float64(2), int64(2), object(10)\n",
      "memory usage: 70.6+ MB\n"
     ]
    },
    {
     "data": {
      "text/plain": [
       "Index(['Index', 'Accident_Severity', 'Accident Date', 'Latitude',\n",
       "       'Light_Conditions', 'District Area', 'Longitude',\n",
       "       'Number_of_Casualties', 'Number_of_Vehicles', 'Road_Surface_Conditions',\n",
       "       'Road_Type', 'Urban_or_Rural_Area', 'Weather_Conditions',\n",
       "       'Vehicle_Type'],\n",
       "      dtype='object')"
      ]
     },
     "execution_count": 15,
     "metadata": {},
     "output_type": "execute_result"
    }
   ],
   "source": [
    "uk_accidents.info()\n",
    "uk_accidents.shape\n",
    "uk_accidents.columns"
   ]
  },
  {
   "cell_type": "markdown",
   "id": "ecab1d17-cc16-4959-bce0-b83dcdba4d8a",
   "metadata": {},
   "source": [
    "<h2>📌 Step 4: Basic Descriptive Statistics</h2>\n",
    "<p>Check statistical summary of both numeric and categorical columns.</p>"
   ]
  },
  {
   "cell_type": "code",
   "execution_count": 16,
   "id": "bcda07f4-f6b9-4d6e-97f1-845f1e4a5611",
   "metadata": {},
   "outputs": [
    {
     "data": {
      "text/html": [
       "<div>\n",
       "<style scoped>\n",
       "    .dataframe tbody tr th:only-of-type {\n",
       "        vertical-align: middle;\n",
       "    }\n",
       "\n",
       "    .dataframe tbody tr th {\n",
       "        vertical-align: top;\n",
       "    }\n",
       "\n",
       "    .dataframe thead th {\n",
       "        text-align: right;\n",
       "    }\n",
       "</style>\n",
       "<table border=\"1\" class=\"dataframe\">\n",
       "  <thead>\n",
       "    <tr style=\"text-align: right;\">\n",
       "      <th></th>\n",
       "      <th>Index</th>\n",
       "      <th>Accident_Severity</th>\n",
       "      <th>Accident Date</th>\n",
       "      <th>Latitude</th>\n",
       "      <th>Light_Conditions</th>\n",
       "      <th>District Area</th>\n",
       "      <th>Longitude</th>\n",
       "      <th>Number_of_Casualties</th>\n",
       "      <th>Number_of_Vehicles</th>\n",
       "      <th>Road_Surface_Conditions</th>\n",
       "      <th>Road_Type</th>\n",
       "      <th>Urban_or_Rural_Area</th>\n",
       "      <th>Weather_Conditions</th>\n",
       "      <th>Vehicle_Type</th>\n",
       "    </tr>\n",
       "  </thead>\n",
       "  <tbody>\n",
       "    <tr>\n",
       "      <th>count</th>\n",
       "      <td>660679</td>\n",
       "      <td>660679</td>\n",
       "      <td>660679</td>\n",
       "      <td>660654.000000</td>\n",
       "      <td>660679</td>\n",
       "      <td>660679</td>\n",
       "      <td>660653.000000</td>\n",
       "      <td>660679.000000</td>\n",
       "      <td>660679.000000</td>\n",
       "      <td>659953</td>\n",
       "      <td>656159</td>\n",
       "      <td>660664</td>\n",
       "      <td>646551</td>\n",
       "      <td>660679</td>\n",
       "    </tr>\n",
       "    <tr>\n",
       "      <th>unique</th>\n",
       "      <td>421020</td>\n",
       "      <td>3</td>\n",
       "      <td>1461</td>\n",
       "      <td>NaN</td>\n",
       "      <td>5</td>\n",
       "      <td>422</td>\n",
       "      <td>NaN</td>\n",
       "      <td>NaN</td>\n",
       "      <td>NaN</td>\n",
       "      <td>5</td>\n",
       "      <td>5</td>\n",
       "      <td>3</td>\n",
       "      <td>8</td>\n",
       "      <td>16</td>\n",
       "    </tr>\n",
       "    <tr>\n",
       "      <th>top</th>\n",
       "      <td>2.01E+12</td>\n",
       "      <td>Slight</td>\n",
       "      <td>30-11-2019</td>\n",
       "      <td>NaN</td>\n",
       "      <td>Daylight</td>\n",
       "      <td>Birmingham</td>\n",
       "      <td>NaN</td>\n",
       "      <td>NaN</td>\n",
       "      <td>NaN</td>\n",
       "      <td>Dry</td>\n",
       "      <td>Single carriageway</td>\n",
       "      <td>Urban</td>\n",
       "      <td>Fine no high winds</td>\n",
       "      <td>Car</td>\n",
       "    </tr>\n",
       "    <tr>\n",
       "      <th>freq</th>\n",
       "      <td>239478</td>\n",
       "      <td>563801</td>\n",
       "      <td>704</td>\n",
       "      <td>NaN</td>\n",
       "      <td>484880</td>\n",
       "      <td>13491</td>\n",
       "      <td>NaN</td>\n",
       "      <td>NaN</td>\n",
       "      <td>NaN</td>\n",
       "      <td>447821</td>\n",
       "      <td>492143</td>\n",
       "      <td>421663</td>\n",
       "      <td>520885</td>\n",
       "      <td>497992</td>\n",
       "    </tr>\n",
       "    <tr>\n",
       "      <th>mean</th>\n",
       "      <td>NaN</td>\n",
       "      <td>NaN</td>\n",
       "      <td>NaN</td>\n",
       "      <td>52.553866</td>\n",
       "      <td>NaN</td>\n",
       "      <td>NaN</td>\n",
       "      <td>-1.431210</td>\n",
       "      <td>1.357040</td>\n",
       "      <td>1.831255</td>\n",
       "      <td>NaN</td>\n",
       "      <td>NaN</td>\n",
       "      <td>NaN</td>\n",
       "      <td>NaN</td>\n",
       "      <td>NaN</td>\n",
       "    </tr>\n",
       "    <tr>\n",
       "      <th>std</th>\n",
       "      <td>NaN</td>\n",
       "      <td>NaN</td>\n",
       "      <td>NaN</td>\n",
       "      <td>1.406922</td>\n",
       "      <td>NaN</td>\n",
       "      <td>NaN</td>\n",
       "      <td>1.383330</td>\n",
       "      <td>0.824847</td>\n",
       "      <td>0.715269</td>\n",
       "      <td>NaN</td>\n",
       "      <td>NaN</td>\n",
       "      <td>NaN</td>\n",
       "      <td>NaN</td>\n",
       "      <td>NaN</td>\n",
       "    </tr>\n",
       "    <tr>\n",
       "      <th>min</th>\n",
       "      <td>NaN</td>\n",
       "      <td>NaN</td>\n",
       "      <td>NaN</td>\n",
       "      <td>49.914430</td>\n",
       "      <td>NaN</td>\n",
       "      <td>NaN</td>\n",
       "      <td>-7.516225</td>\n",
       "      <td>1.000000</td>\n",
       "      <td>1.000000</td>\n",
       "      <td>NaN</td>\n",
       "      <td>NaN</td>\n",
       "      <td>NaN</td>\n",
       "      <td>NaN</td>\n",
       "      <td>NaN</td>\n",
       "    </tr>\n",
       "    <tr>\n",
       "      <th>25%</th>\n",
       "      <td>NaN</td>\n",
       "      <td>NaN</td>\n",
       "      <td>NaN</td>\n",
       "      <td>51.490690</td>\n",
       "      <td>NaN</td>\n",
       "      <td>NaN</td>\n",
       "      <td>-2.332291</td>\n",
       "      <td>1.000000</td>\n",
       "      <td>1.000000</td>\n",
       "      <td>NaN</td>\n",
       "      <td>NaN</td>\n",
       "      <td>NaN</td>\n",
       "      <td>NaN</td>\n",
       "      <td>NaN</td>\n",
       "    </tr>\n",
       "    <tr>\n",
       "      <th>50%</th>\n",
       "      <td>NaN</td>\n",
       "      <td>NaN</td>\n",
       "      <td>NaN</td>\n",
       "      <td>52.315641</td>\n",
       "      <td>NaN</td>\n",
       "      <td>NaN</td>\n",
       "      <td>-1.411667</td>\n",
       "      <td>1.000000</td>\n",
       "      <td>2.000000</td>\n",
       "      <td>NaN</td>\n",
       "      <td>NaN</td>\n",
       "      <td>NaN</td>\n",
       "      <td>NaN</td>\n",
       "      <td>NaN</td>\n",
       "    </tr>\n",
       "    <tr>\n",
       "      <th>75%</th>\n",
       "      <td>NaN</td>\n",
       "      <td>NaN</td>\n",
       "      <td>NaN</td>\n",
       "      <td>53.453452</td>\n",
       "      <td>NaN</td>\n",
       "      <td>NaN</td>\n",
       "      <td>-0.232869</td>\n",
       "      <td>1.000000</td>\n",
       "      <td>2.000000</td>\n",
       "      <td>NaN</td>\n",
       "      <td>NaN</td>\n",
       "      <td>NaN</td>\n",
       "      <td>NaN</td>\n",
       "      <td>NaN</td>\n",
       "    </tr>\n",
       "    <tr>\n",
       "      <th>max</th>\n",
       "      <td>NaN</td>\n",
       "      <td>NaN</td>\n",
       "      <td>NaN</td>\n",
       "      <td>60.757544</td>\n",
       "      <td>NaN</td>\n",
       "      <td>NaN</td>\n",
       "      <td>1.762010</td>\n",
       "      <td>68.000000</td>\n",
       "      <td>32.000000</td>\n",
       "      <td>NaN</td>\n",
       "      <td>NaN</td>\n",
       "      <td>NaN</td>\n",
       "      <td>NaN</td>\n",
       "      <td>NaN</td>\n",
       "    </tr>\n",
       "  </tbody>\n",
       "</table>\n",
       "</div>"
      ],
      "text/plain": [
       "           Index Accident_Severity Accident Date       Latitude  \\\n",
       "count     660679            660679        660679  660654.000000   \n",
       "unique    421020                 3          1461            NaN   \n",
       "top     2.01E+12            Slight    30-11-2019            NaN   \n",
       "freq      239478            563801           704            NaN   \n",
       "mean         NaN               NaN           NaN      52.553866   \n",
       "std          NaN               NaN           NaN       1.406922   \n",
       "min          NaN               NaN           NaN      49.914430   \n",
       "25%          NaN               NaN           NaN      51.490690   \n",
       "50%          NaN               NaN           NaN      52.315641   \n",
       "75%          NaN               NaN           NaN      53.453452   \n",
       "max          NaN               NaN           NaN      60.757544   \n",
       "\n",
       "       Light_Conditions District Area      Longitude  Number_of_Casualties  \\\n",
       "count            660679        660679  660653.000000         660679.000000   \n",
       "unique                5           422            NaN                   NaN   \n",
       "top            Daylight    Birmingham            NaN                   NaN   \n",
       "freq             484880         13491            NaN                   NaN   \n",
       "mean                NaN           NaN      -1.431210              1.357040   \n",
       "std                 NaN           NaN       1.383330              0.824847   \n",
       "min                 NaN           NaN      -7.516225              1.000000   \n",
       "25%                 NaN           NaN      -2.332291              1.000000   \n",
       "50%                 NaN           NaN      -1.411667              1.000000   \n",
       "75%                 NaN           NaN      -0.232869              1.000000   \n",
       "max                 NaN           NaN       1.762010             68.000000   \n",
       "\n",
       "        Number_of_Vehicles Road_Surface_Conditions           Road_Type  \\\n",
       "count        660679.000000                  659953              656159   \n",
       "unique                 NaN                       5                   5   \n",
       "top                    NaN                     Dry  Single carriageway   \n",
       "freq                   NaN                  447821              492143   \n",
       "mean              1.831255                     NaN                 NaN   \n",
       "std               0.715269                     NaN                 NaN   \n",
       "min               1.000000                     NaN                 NaN   \n",
       "25%               1.000000                     NaN                 NaN   \n",
       "50%               2.000000                     NaN                 NaN   \n",
       "75%               2.000000                     NaN                 NaN   \n",
       "max              32.000000                     NaN                 NaN   \n",
       "\n",
       "       Urban_or_Rural_Area  Weather_Conditions Vehicle_Type  \n",
       "count               660664              646551       660679  \n",
       "unique                   3                   8           16  \n",
       "top                  Urban  Fine no high winds          Car  \n",
       "freq                421663              520885       497992  \n",
       "mean                   NaN                 NaN          NaN  \n",
       "std                    NaN                 NaN          NaN  \n",
       "min                    NaN                 NaN          NaN  \n",
       "25%                    NaN                 NaN          NaN  \n",
       "50%                    NaN                 NaN          NaN  \n",
       "75%                    NaN                 NaN          NaN  \n",
       "max                    NaN                 NaN          NaN  "
      ]
     },
     "execution_count": 16,
     "metadata": {},
     "output_type": "execute_result"
    }
   ],
   "source": [
    "uk_accidents.describe(include=\"all\")"
   ]
  },
  {
   "cell_type": "markdown",
   "id": "370b55b8-a933-4a3f-bda1-b5e4d17ad64d",
   "metadata": {},
   "source": [
    "<h2>📌 Step 5: Access Columns Individually</h2>\n",
    "<p>We can inspect specific columns from the DataFrame.</p>"
   ]
  },
  {
   "cell_type": "code",
   "execution_count": 17,
   "id": "e50deb5d-0934-484c-a04b-e48f4b54e7fd",
   "metadata": {},
   "outputs": [
    {
     "data": {
      "text/plain": [
       "0         1\n",
       "1         1\n",
       "2         1\n",
       "3         1\n",
       "4         1\n",
       "         ..\n",
       "660674    2\n",
       "660675    1\n",
       "660676    1\n",
       "660677    1\n",
       "660678    1\n",
       "Name: Number_of_Casualties, Length: 660679, dtype: int64"
      ]
     },
     "execution_count": 17,
     "metadata": {},
     "output_type": "execute_result"
    }
   ],
   "source": [
    "uk_accidents[\"Accident_Severity\"]\n",
    "uk_accidents[\"Number_of_Casualties\"]"
   ]
  },
  {
   "cell_type": "markdown",
   "id": "c40361bb-417b-40e4-aee6-24934bd5a2e9",
   "metadata": {},
   "source": [
    "<h2>📌 Step 6: Check for Missing Values</h2>\n",
    "<p>Identify which columns have null values and how many are missing.</p>"
   ]
  },
  {
   "cell_type": "code",
   "execution_count": 48,
   "id": "bcc02878-84ea-44a9-9e89-d324c76d1faf",
   "metadata": {},
   "outputs": [
    {
     "data": {
      "text/plain": [
       "Index                      0\n",
       "Accident_Severity          0\n",
       "Accident Date              0\n",
       "Latitude                   0\n",
       "Light_Conditions           0\n",
       "District Area              0\n",
       "Longitude                  0\n",
       "Number_of_Casualties       0\n",
       "Number_of_Vehicles         0\n",
       "Road_Surface_Conditions    0\n",
       "Road_Type                  0\n",
       "Urban_or_Rural_Area        0\n",
       "Weather_Conditions         0\n",
       "Vehicle_Type               0\n",
       "year                       0\n",
       "month                      0\n",
       "day                        0\n",
       "dayofweek                  0\n",
       "Year                       0\n",
       "Month                      0\n",
       "Day                        0\n",
       "DayOfWeek                  0\n",
       "dtype: int64"
      ]
     },
     "execution_count": 48,
     "metadata": {},
     "output_type": "execute_result"
    }
   ],
   "source": [
    "uk_accidents.isnull().sum()"
   ]
  },
  {
   "cell_type": "code",
   "execution_count": 45,
   "id": "91be9556-0978-4c70-9de0-cc61d341a5d7",
   "metadata": {},
   "outputs": [],
   "source": [
    "uk_accidents[\"Latitude\"].fillna(uk_accidents[\"Latitude\"].mean(), inplace=True)\n",
    "uk_accidents[\"Longitude\"].fillna(uk_accidents[\"Longitude\"].mean(), inplace=True)\n",
    "uk_accidents[\"Road_Surface_Conditions\"].fillna(uk_accidents[\"Road_Surface_Conditions\"].mode()[0], inplace=True)\n",
    "uk_accidents[\"Road_Type\"].fillna(uk_accidents[\"Road_Type\"].mode()[0], inplace=True)\n",
    "uk_accidents[\"Urban_or_Rural_Area\"].fillna(uk_accidents[\"Urban_or_Rural_Area\"].mode()[0], inplace=True)\n",
    "uk_accidents[\"Weather_Conditions\"].fillna(uk_accidents[\"Weather_Conditions\"].mode()[0], inplace=True)\n",
    "mode_date = uk_accidents[\"Accident Date\"].mode()[0]\n",
    "uk_accidents[\"Accident Date\"].fillna(mode_date, inplace=True)"
   ]
  },
  {
   "cell_type": "markdown",
   "id": "0cdc4dbb-d3d4-4fa6-b24b-3dcfa0f755ca",
   "metadata": {},
   "source": [
    "<h2>📌 Step 7: Check & Adjust Data Types</h2>\n",
    "<p>Inspect column data types and adjust if necessary.</p>"
   ]
  },
  {
   "cell_type": "code",
   "execution_count": 32,
   "id": "22dcce77-04e5-49a9-9530-36ddae5b1f67",
   "metadata": {},
   "outputs": [],
   "source": [
    "# Convert \"Accident Date\" column to datetime\n",
    "uk_accidents['Accident Date'] = uk_accidents['Accident Date'].astype('str')           # ensure all are strings\n",
    "uk_accidents['Accident Date'] = uk_accidents['Accident Date'].str.strip()             # remove extra spaces\n",
    "uk_accidents['Accident Date'] = uk_accidents['Accident Date'].str.replace('/', '-')   # replace / with -\n",
    "uk_accidents[\"Accident Date\"] = pd.to_datetime(uk_accidents[\"Accident Date\"], errors=\"coerce\")\n",
    "categorical_cols = [\n",
    "    \"Accident_Severity\",\n",
    "    \"Light_Conditions\",\n",
    "    \"District Area\",\n",
    "    \"Road_Surface_Conditions\",\n",
    "    \"Road_Type\",\n",
    "    \"Urban_or_Rural_Area\",\n",
    "    \"Weather_Conditions\",\n",
    "    \"Vehicle_Type\"\n",
    "]\n",
    "\n",
    "for col in categorical_cols:\n",
    "    uk_accidents[col] = uk_accidents[col].astype(\"category\")"
   ]
  },
  {
   "cell_type": "code",
   "execution_count": 31,
   "id": "3284bc79-b55d-4e36-9ce0-a011a4d45118",
   "metadata": {},
   "outputs": [
    {
     "data": {
      "text/plain": [
       "Index                              object\n",
       "Accident_Severity                category\n",
       "Accident Date              datetime64[ns]\n",
       "Latitude                          float64\n",
       "Light_Conditions                 category\n",
       "District Area                    category\n",
       "Longitude                         float64\n",
       "Number_of_Casualties                int64\n",
       "Number_of_Vehicles                  int64\n",
       "Road_Surface_Conditions          category\n",
       "Road_Type                        category\n",
       "Urban_or_Rural_Area              category\n",
       "Weather_Conditions               category\n",
       "Vehicle_Type                     category\n",
       "year                                int32\n",
       "month                               int32\n",
       "day                                 int32\n",
       "dayofweek                          object\n",
       "dtype: object"
      ]
     },
     "execution_count": 31,
     "metadata": {},
     "output_type": "execute_result"
    }
   ],
   "source": [
    "uk_accidents.dtypes"
   ]
  },
  {
   "cell_type": "markdown",
   "id": "73f1899b-90c8-43fe-8d52-8e33311fcc7f",
   "metadata": {},
   "source": [
    "<h2>📌 Create new columns using dt accessor</h2>"
   ]
  },
  {
   "cell_type": "code",
   "execution_count": 47,
   "id": "7cf8a0b6-dc38-4309-979b-821f094d44ec",
   "metadata": {},
   "outputs": [],
   "source": [
    "uk_accidents['year'] = uk_accidents['Accident Date'].dt.year\n",
    "uk_accidents['month'] = uk_accidents['Accident Date'].dt.month\n",
    "uk_accidents['day'] = uk_accidents['Accident Date'].dt.day\n",
    "uk_accidents['dayofweek'] = uk_accidents['Accident Date'].dt.day_name()"
   ]
  },
  {
   "cell_type": "markdown",
   "id": "c5c9fcf4-759e-408c-a1b4-f6e7244b7534",
   "metadata": {},
   "source": [
    "<h2>📊Exploratory Data Analysis (EDA)</h2>\n",
    "<p>Now that the dataset has been cleaned, we proceed to <b>Exploratory Data Analysis (EDA)</b> to uncover insights and patterns.</p>\n",
    "<hr>"
   ]
  },
  {
   "cell_type": "markdown",
   "id": "95cec9f1-a989-471a-861e-1668f195164a",
   "metadata": {},
   "source": [
    "<h2>1. How many total accidents are in the dataset?</h2>"
   ]
  },
  {
   "cell_type": "code",
   "execution_count": 35,
   "id": "6d59c49e-a453-4f78-8de9-db85a046f563",
   "metadata": {},
   "outputs": [
    {
     "data": {
      "text/plain": [
       "660679"
      ]
     },
     "execution_count": 35,
     "metadata": {},
     "output_type": "execute_result"
    }
   ],
   "source": [
    "len(uk_accidents)"
   ]
  },
  {
   "cell_type": "markdown",
   "id": "604f8031-28a4-4280-98ab-9b2c3beacf37",
   "metadata": {},
   "source": [
    "<h3>Result:</h3>\n",
    "<p>660,679 recorded accidents.</p>\n",
    "\n",
    "<h3>Insight:</h3>\n",
    "<p>The dataset is very large, providing a strong basis for meaningful analysis.</p>\n",
    "<hr>"
   ]
  },
  {
   "cell_type": "markdown",
   "id": "c07049bd-395e-4d2a-9422-0d0d996838b3",
   "metadata": {},
   "source": [
    "<h2>2. What are the different categories of accident severity, and how many accidents fall into each?</h2>"
   ]
  },
  {
   "cell_type": "code",
   "execution_count": 36,
   "id": "01bef03b-1ad2-4178-8512-f725551e3e73",
   "metadata": {},
   "outputs": [
    {
     "data": {
      "image/png": "[encoded data removed]",
      "text/plain": [
       "<Figure size 600x600 with 1 Axes>"
      ]
     },
     "metadata": {},
     "output_type": "display_data"
    }
   ],
   "source": [
    "severity_counts = uk_accidents[\"Accident_Severity\"].value_counts()\n",
    "plt.figure(figsize=(6,6))\n",
    "plt.pie(severity_counts, labels=severity_counts.index, autopct='%1.1f%%', startangle=90)\n",
    "plt.title(\"Accident Severity Distribution\")\n",
    "plt.show()"
   ]
  },
  {
   "cell_type": "markdown",
   "id": "ce569fdd-ab4a-432f-b8c6-2c3fb5230c05",
   "metadata": {},
   "source": [
    "<h3>Result:</h3> Most accidents are classified as \"Slight,\" with fewer \"Serious\" and very few \"Fatal.\"\n",
    "<h3>Insight (2.1):</h3> This suggests that while accidents are common, most are not life-threatening.  \n",
    "<h3>Insight (2.2):</h3> Even though fatal accidents make up less than 2%, their consequences are severe, highlighting the need for targeted road safety measures.\n",
    "<hr>"
   ]
  },
  {
   "cell_type": "markdown",
   "id": "4dbb0ec4-842e-4660-95f9-4582ec70af82",
   "metadata": {},
   "source": [
    "<h2>3. What is the most common weather condition during accidents?</h2>"
   ]
  },
  {
   "cell_type": "code",
   "execution_count": 37,
   "id": "f486a8aa-a4b6-48ca-960b-b3bfcfb872fc",
   "metadata": {},
   "outputs": [
    {
     "data": {
      "image/png": "[encoded data removed]",
      "text/plain": [
       "<Figure size 800x500 with 1 Axes>"
      ]
     },
     "metadata": {},
     "output_type": "display_data"
    }
   ],
   "source": [
    "weather_counts = uk_accidents[\"Weather_Conditions\"].value_counts()\n",
    "plt.figure(figsize=(8,5))\n",
    "plt.bar(weather_counts.index, weather_counts.values, color='skyblue')\n",
    "plt.xticks(rotation=45)\n",
    "plt.title(\"Accidents by Weather Conditions\")\n",
    "plt.xlabel(\"Weather Condition\")\n",
    "plt.ylabel(\"Number of Accidents\")\n",
    "plt.show()"
   ]
  },
  {
   "cell_type": "markdown",
   "id": "a632f848-409c-45f4-9931-55029f2c38e4",
   "metadata": {},
   "source": [
    "<h3>Result:</h3>\n",
    "<p>\n",
    "Fine no high winds       535,013<br>\n",
    "Raining no high winds     79,696<br>\n",
    "Other                     17,150<br>\n",
    "Raining + high winds       9,615<br>\n",
    "Fine + high winds          8,554<br>\n",
    "Snowing no high winds      6,238<br>\n",
    "Fog or mist                3,528<br>\n",
    "Snowing + high winds         885\n",
    "</p>\n",
    "\n",
    "<h3>Insight:</h3>\n",
    "<p>Most accidents happened in <b>fine weather</b>, suggesting driver behavior is a bigger factor than poor weather.</p>\n",
    "<hr>\n"
   ]
  },
  {
   "cell_type": "markdown",
   "id": "c5de7228-4b86-44bb-96cd-cfff3baf1e38",
   "metadata": {},
   "source": [
    "<h2>4. Which road surface condition is most associated with accidents?</h2>"
   ]
  },
  {
   "cell_type": "code",
   "execution_count": 39,
   "id": "3cac1e47-68d4-4540-ba66-fdc1bba455ca",
   "metadata": {},
   "outputs": [
    {
     "data": {
      "image/png": "[encoded data removed]",
      "text/plain": [
       "<Figure size 800x500 with 1 Axes>"
      ]
     },
     "metadata": {},
     "output_type": "display_data"
    }
   ],
   "source": [
    "road_counts = uk_accidents[\"Road_Surface_Conditions\"].value_counts()\n",
    "plt.figure(figsize=(8,5))\n",
    "plt.bar(road_counts.index, road_counts.values, color='lightgreen')\n",
    "plt.xticks(rotation=45)\n",
    "plt.title(\"Accidents by Road Surface Conditions\")\n",
    "plt.xlabel(\"Road Surface Condition\")\n",
    "plt.ylabel(\"Number of Accidents\")\n",
    "plt.show()"
   ]
  },
  {
   "cell_type": "markdown",
   "id": "4dfd3914-abf0-4b8a-ae16-ae84907a4dea",
   "metadata": {},
   "source": [
    "<h3>Result:</h3> The majority of accidents occur on dry surfaces, followed by wet or damp roads.\n",
    "<h3>Insight (4.1):</h3> Most accidents happen in normal dry conditions, likely due to higher traffic volume. Also due to human error.\n",
    "<h3>Insight (4.2):</h3> Wet/icy conditions, though less frequent, are linked to proportionally higher severity, suggesting drivers may underestimate these risks.\n",
    "<hr>"
   ]
  },
  {
   "cell_type": "markdown",
   "id": "d3a7e0ab-f905-4600-b09c-a48071782978",
   "metadata": {},
   "source": [
    "<h2>5. What proportion of accidents occur in urban vs rural areas?</h2>"
   ]
  },
  {
   "cell_type": "code",
   "execution_count": null,
   "id": "75e40264-5243-42c5-9463-ce47f6ec4e0a",
   "metadata": {},
   "outputs": [],
   "source": [
    "uk_accidents[\"Urban_or_Rural_Area\"].value_counts(normalize=True) * 100"
   ]
  },
  {
   "cell_type": "markdown",
   "id": "59b7f370-c9e7-4cd8-8f97-9e1131e8ad8e",
   "metadata": {},
   "source": [
    "<h3>Result:</h3>\n",
    "<p>\n",
    "Urban          63.82%<br>\n",
    "Rural          36.17%<br>\n",
    "Unallocated     0.17%\n",
    "</p>\n",
    "\n",
    "<h3>Insight:</h3>\n",
    "<p>About <b>two-thirds of accidents</b> occurred in <b>urban areas</b>, likely because of heavier traffic.</p>\n",
    "<hr>"
   ]
  },
  {
   "cell_type": "markdown",
   "id": "1c8d568d-9dca-4093-b270-244eefad398b",
   "metadata": {},
   "source": [
    "<h2>6. Which road type has the highest number of accidents?</h2>"
   ]
  },
  {
   "cell_type": "code",
   "execution_count": null,
   "id": "44d61a5f-cf18-42d2-a2f9-b0b7e8f33fc3",
   "metadata": {},
   "outputs": [],
   "source": [
    "uk_accidents[\"Road_Type\"].value_counts()"
   ]
  },
  {
   "cell_type": "markdown",
   "id": "b06f22f1-2ec4-49ba-b315-c75b6c2e8368",
   "metadata": {},
   "source": [
    "<h3>Result:</h3>\n",
    "<p>\n",
    "Single carriageway    496,663<br>\n",
    "Dual carriageway       99,424<br>\n",
    "Roundabout             43,992<br>\n",
    "One way street         13,559<br>\n",
    "Slip road               7,041\n",
    "</p>\n",
    "\n",
    "<h3>Insight:</h3>\n",
    "<p>Most accidents occurred on <b>single carriageways</b>, showing they are the riskiest road type.</p>\n",
    "<hr>"
   ]
  },
  {
   "cell_type": "markdown",
   "id": "b1070967-3614-46f0-bd18-255f4850b6d5",
   "metadata": {},
   "source": [
    "<h2>7. What is the average number of vehicles involved in accidents?</h2>"
   ]
  },
  {
   "cell_type": "code",
   "execution_count": null,
   "id": "948ed12a-9d68-4a8d-b4da-4ade8a7f3d8b",
   "metadata": {},
   "outputs": [],
   "source": [
    "uk_accidents[\"Number_of_Vehicles\"].mean()"
   ]
  },
  {
   "cell_type": "markdown",
   "id": "66410d06-44b7-4ea9-9fb7-346876a598c2",
   "metadata": {},
   "source": [
    "<h3>Result:</h3>\n",
    "<p>Average number of vehicles involved: 1.83</p>\n",
    "\n",
    "<h3>Insight:</h3>\n",
    "<p>Most accidents involve <b>one or two vehicles</b>, meaning single-vehicle crashes are still very common.</p>\n",
    "<hr>"
   ]
  },
  {
   "cell_type": "markdown",
   "id": "6ab4b2fe-58b3-4065-9c0d-ce414acb43d8",
   "metadata": {},
   "source": [
    "<h2>8. What is the average number of casualties per accident?</h2>"
   ]
  },
  {
   "cell_type": "code",
   "execution_count": null,
   "id": "e6c952a5-f7fe-4540-8ae7-5d326db0157c",
   "metadata": {},
   "outputs": [],
   "source": [
    "uk_accidents[\"Number_of_Casualties\"].mean()\n"
   ]
  },
  {
   "cell_type": "markdown",
   "id": "e1b9eef6-c81b-431d-b80a-a840ced63f38",
   "metadata": {},
   "source": [
    "<h3>Result:</h3>\n",
    "<p>Average number of casualties per accident: 1.36</p>\n",
    "\n",
    "<h3>Insight:</h3>\n",
    "<p>On average, about <b>1 - 2 people</b>, which suggests most incidents affect more than just the driver.</p>\n",
    "<hr>"
   ]
  },
  {
   "cell_type": "markdown",
   "id": "95105f75-830e-46ac-ad0f-19306f9c28a0",
   "metadata": {},
   "source": [
    "<h2>9. What is the maximum number of casualties recorded in a single accident?</h2>"
   ]
  },
  {
   "cell_type": "code",
   "execution_count": null,
   "id": "89bc1ecf-688c-460e-a2d2-ae35d0023f06",
   "metadata": {},
   "outputs": [],
   "source": [
    "uk_accidents[\"Number_of_Casualties\"].max()"
   ]
  },
  {
   "cell_type": "markdown",
   "id": "751be82f-b0ff-4aff-9a09-b3477357fa08",
   "metadata": {},
   "source": [
    "<h3>Result:</h3>\n",
    "<p>Maximum number of casualties in a single accident: 68</p>\n",
    "\n",
    "<h3>Insight:</h3>\n",
    "<p>Although rare, some accidents can be extremely severe, with <b>dozens of casualties</b> in one event.</p>\n",
    "<hr>"
   ]
  },
  {
   "cell_type": "markdown",
   "id": "23c1d21d-a48c-4942-81c0-41e844f20826",
   "metadata": {},
   "source": [
    "<h2>10. Which weather condition has the highest average number of casualties?</h2>"
   ]
  },
  {
   "cell_type": "code",
   "execution_count": null,
   "id": "23ab2f80-8b60-4365-9750-3e05f8d1e86c",
   "metadata": {},
   "outputs": [],
   "source": [
    "uk_accidents.groupby(\"Weather_Conditions\")[\"Number_of_Casualties\"].mean()"
   ]
  },
  {
   "cell_type": "markdown",
   "id": "7a171c7e-97cd-41e3-bedf-2a8d5638299a",
   "metadata": {},
   "source": [
    "<h3>Result:</h3>\n",
    "<p>\n",
    "Fine + high winds        1.39<br>\n",
    "Fine no high winds       1.35<br>\n",
    "Fog or mist              1.45<br>\n",
    "Other                    1.35<br>\n",
    "Raining + high winds     1.42<br>\n",
    "Raining no high winds    1.41<br>\n",
    "Snowing + high winds     1.42<br>\n",
    "Snowing no high winds    1.34\n",
    "</p>\n",
    "\n",
    "<h3>Insight:</h3>\n",
    "<p>The <b>highest average casualties per accident</b> happen during <b>fog or mist</b>, showing low visibility is particularly dangerous.</p>\n",
    "<hr>"
   ]
  },
  {
   "cell_type": "markdown",
   "id": "4e31911e-6b47-49e7-bd13-474d9a921674",
   "metadata": {},
   "source": [
    "<h2>11. Which road surface condition has the highest accident severity?</h2>"
   ]
  },
  {
   "cell_type": "code",
   "execution_count": null,
   "id": "fd10b1b7-e80b-49da-847c-0fc75edc0383",
   "metadata": {},
   "outputs": [],
   "source": [
    "uk_accidents.groupby(\"Road_Surface_Conditions\")[\"Accident_Severity\"].value_counts()"
   ]
  },
  {
   "cell_type": "markdown",
   "id": "6113bc44-7a02-4f47-afa3-b20d97ab6ea0",
   "metadata": {},
   "source": [
    "<h3>Result:</h3>\n",
    "<p>\n",
    "<b>Dry</b><br>\n",
    "Slight: 381,049 | Serious: 61,708 | Fatal: 5,790\n",
    "\n",
    "<b>Wet or damp</b>\n",
    "Slight: 160,303 | Serious: 23,785 | Fatal: 2,620\n",
    "\n",
    "<b>Frost or ice</b>\n",
    "Slight: 16,317 | Serious: 2,007 | Fatal: 193\n",
    "\n",
    "<b>Snow</b>\n",
    "Slight: 5,290 | Serious: 565 | Fatal: 35\n",
    "\n",
    "<b>Flood over 3cm deep</b>\n",
    "Slight: 842 | Serious: 152 | Fatal: 23\n",
    "</p>\n",
    "\n",
    "<h3>Insight:</h3>\n",
    "<p>Accidents on <b>dry roads</b> dominate all categories, but <b>wet/icy conditions</b> increase the likelihood of serious or fatal accidents.</p>\n",
    "<hr>"
   ]
  },
  {
   "cell_type": "markdown",
   "id": "b94e7035-c1f9-46f1-a5c4-e16b42c2e88b",
   "metadata": {},
   "source": [
    "<h2>12. How many accidents happened each year?</h2>"
   ]
  },
  {
   "cell_type": "code",
   "execution_count": null,
   "id": "c3b5a5f1-560c-4f1b-ae52-df5a5952d4e1",
   "metadata": {},
   "outputs": [],
   "source": [
    "uk_accidents.groupby(uk_accidents[\"Accident Date\"].dt.year).size()"
   ]
  },
  {
   "cell_type": "markdown",
   "id": "105bb4fc-3177-4578-bba5-6953bd32871c",
   "metadata": {},
   "source": [
    "<h3>Result:</h3>\n",
    "<p>\n",
    "2019 → 71,867<br>\n",
    "2020 → 70,163<br>\n",
    "2021 → 461,844<br>\n",
    "2022 → 56,805\n",
    "</p>\n",
    "\n",
    "<h3>Insight:</h3>\n",
    "<p>2021 shows an <b>abnormally high accident count</b>, likely due to reporting or dataset issues rather than a real surge in accidents.</p>\n",
    "<hr>"
   ]
  },
  {
   "cell_type": "markdown",
   "id": "1d04e3a4-c54d-4790-9435-d8fcd9648bc3",
   "metadata": {},
   "source": [
    "<h2>13. In which month do accidents occur most frequently?</h2>"
   ]
  },
  {
   "cell_type": "code",
   "execution_count": null,
   "id": "973d9f69-fc0f-4d7f-ae6d-2da88370d4a1",
   "metadata": {},
   "outputs": [],
   "source": [
    "uk_accidents.groupby(uk_accidents[\"Accident Date\"].dt.month).size()"
   ]
  },
  {
   "cell_type": "markdown",
   "id": "a83f5f40-b02d-47d8-872c-8d015fabb5a6",
   "metadata": {},
   "source": [
    "<h3>Result:</h3>\n",
    "<p>\n",
    "Jan: 22,606<br>\n",
    "Feb: 21,815<br>\n",
    "Mar: 21,540<br>\n",
    "Apr: 21,699<br>\n",
    "May: 22,409<br>\n",
    "Jun: 21,974<br>\n",
    "Jul: 21,431<br>\n",
    "Aug: 21,914<br>\n",
    "Sep: 22,252<br>\n",
    "Oct: 22,328<br>\n",
    "Nov: 418,175<br>\n",
    "Dec: 22,536\n",
    "</p>\n",
    "\n",
    "<h3>Insight:</h3>\n",
    "<p><b>November’s spike</b> is clearly a <b>data quality problem</b>, not a real seasonal effect. Other months are fairly consistent.</p>\n",
    "<hr>"
   ]
  },
  {
   "cell_type": "markdown",
   "id": "0d83b73f-76cf-4d55-bc04-872653af6419",
   "metadata": {},
   "source": [
    "<h2>14. On which day of the week do most accidents occur?</h2>"
   ]
  },
  {
   "cell_type": "code",
   "execution_count": 49,
   "id": "e5382453-bb5b-428e-ad1e-858be9fc905e",
   "metadata": {},
   "outputs": [
    {
     "data": {
      "image/png": "[encoded data removed]",
      "text/plain": [
       "<Figure size 800x500 with 1 Axes>"
      ]
     },
     "metadata": {},
     "output_type": "display_data"
    }
   ],
   "source": [
    "day_counts = uk_accidents['dayofweek'].value_counts().sort_index()\n",
    "plt.figure(figsize=(8,5))\n",
    "plt.plot(day_counts.index, day_counts.values, marker='o', linestyle='-', color='orange')\n",
    "plt.title(\"Accidents by Day of the Week\")\n",
    "plt.xlabel(\"Day of Week\")\n",
    "plt.ylabel(\"Number of Accidents\")\n",
    "plt.grid(True, linestyle='--', alpha=0.6)\n",
    "plt.show()"
   ]
  },
  {
   "cell_type": "markdown",
   "id": "525b816a-0e0c-4c59-bc6d-5e7fada1c147",
   "metadata": {},
   "source": [
    "<h3>Result:</h3> Tuesday has the most accidents, while weekends show lower counts.\n",
    "<h3>Insight (14.1):</h3> Tuesdays and weekdays in general carry the highest accident risk due to heavy commuting.  \n",
    "<h3>Insight (14.2):</h3> Weekends (Saturday and Sunday) show fewer accidents overall, but tend to have more severe outcomes, possibly linked to risky behaviors like speeding or drunk driving.\n",
    "<hr>"
   ]
  },
  {
   "cell_type": "markdown",
   "id": "127b57b3-e5ca-40ec-b430-f7bec3e83b7e",
   "metadata": {},
   "source": [
    "<h2>15. During which light conditions do accidents occur most?</h2>"
   ]
  },
  {
   "cell_type": "code",
   "execution_count": null,
   "id": "40c1e912-6dba-4ab0-ba23-b6774d04388a",
   "metadata": {},
   "outputs": [],
   "source": [
    "uk_accidents[\"Light_Conditions\"].value_counts()"
   ]
  },
  {
   "cell_type": "markdown",
   "id": "e1b0cff9-6a0f-4dfd-965f-506ea0f469dc",
   "metadata": {},
   "source": [
    "<h3>Result:</h3>\n",
    "<p>\n",
    "Daylight → 484,880<br>\n",
    "Darkness - lights lit → 129,335<br>\n",
    "Darkness - no lighting → 37,437<br>\n",
    "Darkness - lighting unknown → 6,484<br>\n",
    "Darkness - lights unlit → 2,543\n",
    "</p>\n",
    "\n",
    "<h3>Insight:</h3>\n",
    "<p>Most accidents happened during <b>daylight</b>, but poor lighting conditions (<b>dark roads with no lights</b>) significantly raise accident risks.</p>\n",
    "<hr>"
   ]
  },
  {
   "cell_type": "markdown",
   "id": "f81760a2-e807-4d96-b2d5-ac0c66241eec",
   "metadata": {},
   "source": [
    "<h2>16. Which district area has the most accidents recorded?</h2>"
   ]
  },
  {
   "cell_type": "code",
   "execution_count": null,
   "id": "de30a036-0454-4c84-b904-b601bdf1fdb9",
   "metadata": {},
   "outputs": [],
   "source": [
    "uk_accidents[\"District Area\"].value_counts()"
   ]
  },
  {
   "cell_type": "markdown",
   "id": "90dfaddf-ac6a-472c-8707-70be62611b11",
   "metadata": {},
   "source": [
    "<h3>Result:</h3> Birmingham has the highest number of recorded accidents.\n",
    "<h3>Insight (16.1):</h3> Big urban areas like Birmingham dominate accident counts due to traffic density.  \n",
    "<h3>Insight (16.2):</h3> Smaller rural districts, while having fewer accidents, show disproportionately higher severity rates, pointing to slower emergency response and higher speeds.\n",
    "<hr>"
   ]
  },
  {
   "cell_type": "markdown",
   "id": "66740083-8a1d-4dee-978c-5c2ea9d335c9",
   "metadata": {},
   "source": [
    "<h2>17. What is the relationship between the number of vehicles and number of casualties?</h2>"
   ]
  },
  {
   "cell_type": "code",
   "execution_count": null,
   "id": "de14a325-baa1-477b-8a72-d29d7df8bc81",
   "metadata": {},
   "outputs": [],
   "source": [
    "uk_accidents.groupby(\"Number_of_Vehicles\")[\"Number_of_Casualties\"].mean()"
   ]
  },
  {
   "cell_type": "markdown",
   "id": "a3d11b6f-a606-47fd-a2b9-b11e125b478f",
   "metadata": {},
   "source": [
    "<h3>Result:</h3>\n",
    "<p>\n",
    "Average casualties per accident by number of vehicles:<br>\n",
    "1 vehicle → 1.17<br>\n",
    "2 vehicles → 1.37<br>\n",
    "3 vehicles → 1.71<br>\n",
    "4 vehicles → 1.99<br>\n",
    "5 vehicles → 2.31<br>\n",
    "... up to 32 vehicles → 5.00<br>\n",
    "Max avg casualties observed: 28 vehicles → 16.00.\n",
    "</p>\n",
    "\n",
    "<h3>Insight:</h3>\n",
    "<p>Most accidents involve <b>1–2 vehicles with only 1–2 casualties</b>. However, rare multi-vehicle pileups cause very high casualty numbers.</p>\n",
    "<hr>"
   ]
  },
  {
   "cell_type": "markdown",
   "id": "9b624716-74e4-45b4-a779-fc648db44f91",
   "metadata": {},
   "source": [
    "<h2>18. Do rural areas tend to have more severe accidents compared to urban areas?</h2>"
   ]
  },
  {
   "cell_type": "code",
   "execution_count": null,
   "id": "82ee4299-e843-4a0e-b210-0f703d6a8492",
   "metadata": {},
   "outputs": [],
   "source": [
    "uk_accidents.groupby(\"Urban_or_Rural_Area\")[\"Accident_Severity\"].value_counts(normalize=True) * 100"
   ]
  },
  {
   "cell_type": "markdown",
   "id": "8f05cbc8-6f99-4438-9ebc-abbb54a77e28",
   "metadata": {},
   "source": [
    "<h3>Result:</h3>\n",
    "<p>\n",
    "<b>Urban</b> → Slight: 87.2% | Serious: 12.1% | Fatal: 0.7%<br>\n",
    "<b>Rural</b> → Slight: 82.0% | Serious: 15.6% | Fatal: 2.3%<br>\n",
    "<b>Unallocated</b> → Slight: 90.9% | Serious: 9.1% | Fatal: 0.0%\n",
    "</p>\n",
    "\n",
    "<h3>Insight:</h3>\n",
    "<p><b>Rural accidents</b> are more likely to be <b>serious or fatal</b> compared to urban ones, likely due to higher speeds and delayed medical response.</p>\n",
    "<hr>"
   ]
  },
  {
   "cell_type": "markdown",
   "id": "6626636d-f27c-4f4a-a62f-89f566b8825c",
   "metadata": {},
   "source": [
    "<h2>19. What is the most common vehicle type involved in accidents?</h2>"
   ]
  },
  {
   "cell_type": "code",
   "execution_count": 51,
   "id": "5b42ac45-862d-407a-93a2-a3e90b75fca6",
   "metadata": {},
   "outputs": [
    {
     "data": {
      "image/png": "[encoded data removed]",
      "text/plain": [
       "<Figure size 800x500 with 1 Axes>"
      ]
     },
     "metadata": {},
     "output_type": "display_data"
    }
   ],
   "source": [
    "vehicle_counts = uk_accidents[\"Vehicle_Type\"].value_counts()\n",
    "plt.figure(figsize=(8,5))\n",
    "plt.bar(vehicle_counts.index, vehicle_counts.values, color='salmon')\n",
    "plt.xticks(rotation=90)\n",
    "plt.title(\"Accidents by Vehicle Type\")\n",
    "plt.xlabel(\"Vehicle Type\")\n",
    "plt.ylabel(\"Number of Accidents\")\n",
    "plt.show()"
   ]
  },
  {
   "cell_type": "markdown",
   "id": "e17662b7-64df-482d-8aaa-21ac9fa2f357",
   "metadata": {},
   "source": [
    "<h3>Result:</h3> Cars are the most involved vehicle type in accidents.\n",
    "<h3>Insight (19.1):</h3> Cars dominate due to being the most common vehicles on the road.  \n",
    "<h3>Insight (19.2):</h3> Motorcycles, while less frequent in crashes, result in more casualties per accident, making them the highest-risk vehicle group.\n",
    "<hr>"
   ]
  },
  {
   "cell_type": "markdown",
   "id": "c4cd2611-9f58-4215-8245-ba35f3da8f85",
   "metadata": {},
   "source": [
    "<h2>20. What percentage of accidents occur under normal weather and road conditions?</h2>"
   ]
  },
  {
   "cell_type": "code",
   "execution_count": null,
   "id": "1d6e9588-b8d4-49d5-a07e-b1a0253d71bc",
   "metadata": {},
   "outputs": [],
   "source": [
    "normal_accidents = uk_accidents[\n",
    "    (uk_accidents[\"Weather_Conditions\"] == uk_accidents[\"Weather_Conditions\"].mode()[0]) &\n",
    "    (uk_accidents[\"Road_Surface_Conditions\"] == uk_accidents[\"Road_Surface_Conditions\"].mode()[0])\n",
    "]\n",
    "(len(normal_accidents) / len(uk_accidents)) * 100"
   ]
  },
  {
   "cell_type": "markdown",
   "id": "51ca8c76-1f37-40c5-8d9d-da72dbce250f",
   "metadata": {},
   "source": [
    "<h3>Result:</h3>  \n",
    "About <b>66%</b> of accidents happen when the weather is fine and the road surface is dry.  \n",
    "\n",
    "<h3>Insight:</h3>  \n",
    "Most accidents occur under normal conditions rather than extreme ones. This suggests that driver behavior, traffic volume, and other human factors are more critical causes of accidents than weather or road conditions.  \n",
    "<hr>"
   ]
  }
 ],
 "metadata": {
  "kernelspec": {
   "display_name": "Python 3 (ipykernel)",
   "language": "python",
   "name": "python3"
  },
  "language_info": {
   "codemirror_mode": {
    "name": "ipython",
    "version": 3
   },
   "file_extension": ".py",
   "mimetype": "text/x-python",
   "name": "python",
   "nbconvert_exporter": "python",
   "pygments_lexer": "ipython3",
   "version": "3.13.0"
  }
 },
 "nbformat": 4,
 "nbformat_minor": 5
}
